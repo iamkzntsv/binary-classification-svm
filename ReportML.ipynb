{
  "cells": [
    {
      "cell_type": "code",
      "execution_count": 1,
      "metadata": {
        "id": "HKLF7zkiBkWo"
      },
      "outputs": [],
      "source": [
        "# Imports\n",
        "import numpy as np\n",
        "import pandas as pd \n",
        "import matplotlib.pyplot as plt"
      ]
    },
    {
      "cell_type": "markdown",
      "metadata": {
        "id": "wBCFK-vpCJU1"
      },
      "source": [
        "# Loading Data"
      ]
    },
    {
      "cell_type": "code",
      "execution_count": 2,
      "metadata": {
        "colab": {
          "base_uri": "https://localhost:8080/"
        },
        "id": "omJ02RGxCLqx",
        "outputId": "c8a50c3b-515b-4fde-dbe3-7f71cf3bf3cd"
      },
      "outputs": [
        {
          "output_type": "stream",
          "name": "stdout",
          "text": [
            "Mounted at /content/drive\n",
            "Train data shape: ((600, 4610), (2800, 4610))\n",
            "Test data shape: (2000, 4608)\n"
          ]
        }
      ],
      "source": [
        "from google.colab import drive\n",
        "drive.mount('/content/drive')\n",
        "\n",
        "train_data_1 = pd.read_csv('/content/drive/MyDrive/MachineLearning/Report/training1.csv')\n",
        "train_data_2 = pd.read_csv('/content/drive/MyDrive/MachineLearning/Report/training2.csv')\n",
        "test_data = pd.read_csv('/content/drive/MyDrive/MachineLearning/Report/test.csv')\n",
        "\n",
        "print(f'Train data shape: {train_data_1.shape, train_data_2.shape}')\n",
        "print(f'Test data shape: {test_data.shape}')"
      ]
    },
    {
      "cell_type": "code",
      "execution_count": 3,
      "metadata": {
        "colab": {
          "base_uri": "https://localhost:8080/"
        },
        "id": "U-pNT4aDPlLm",
        "outputId": "22e0ce2f-5d2e-4622-9a3e-30d146a5109c"
      },
      "outputs": [
        {
          "output_type": "execute_result",
          "data": {
            "text/plain": [
              "(3400, 4610)"
            ]
          },
          "metadata": {},
          "execution_count": 3
        }
      ],
      "source": [
        "# Combine training datasets\n",
        "train_data = pd.concat([train_data_1, train_data_2])\n",
        "train_data.shape"
      ]
    },
    {
      "cell_type": "code",
      "execution_count": 4,
      "metadata": {
        "colab": {
          "base_uri": "https://localhost:8080/",
          "height": 279
        },
        "id": "5qd29CeHVln5",
        "outputId": "c8706d25-0177-4762-8283-cba7b1b87c18"
      },
      "outputs": [
        {
          "output_type": "execute_result",
          "data": {
            "text/plain": [
              "      CNNs   CNNs.1    CNNs.2    CNNs.3  CNNs.4   CNNs.5   CNNs.6   CNNs.7  \\\n",
              "0  0.96629  0.00000  0.000000  0.184890  1.3535  0.00000  0.66736  0.00000   \n",
              "1  0.42980  0.00000  0.142340  0.000000  0.0000  0.00000  0.00000  0.83749   \n",
              "2  0.00000  0.00000  0.000000  0.968570  0.0000  0.00000  0.00000  0.00000   \n",
              "3  0.00000  0.13278  0.032179  0.742990  0.0000  0.67521  0.00000  0.18638   \n",
              "4  0.00000  0.12242  0.627020  0.017635  0.0000  0.00000  0.28884  1.10050   \n",
              "\n",
              "    CNNs.8   CNNs.9  ...  GIST.504  GIST.505  GIST.506  GIST.507  GIST.508  \\\n",
              "0  0.30246  0.00000  ...  0.025722  0.029769  0.022448  0.018352  0.059976   \n",
              "1  0.00000  0.00000  ...  0.053810  0.030060  0.036972  0.039459  0.025726   \n",
              "2  0.00000  0.00000  ...  0.042560  0.045289  0.047827  0.039196  0.046091   \n",
              "3  1.06300  0.74294  ...  0.040872  0.035247  0.033755  0.049919  0.058322   \n",
              "4  0.00000  0.15511  ...  0.025219  0.005606  0.024671  0.025305  0.025466   \n",
              "\n",
              "   GIST.509  GIST.510  GIST.511  label  confidence  \n",
              "0  0.018121  0.034956  0.018626    0.0        1.00  \n",
              "1  0.015295  0.032943  0.015002    1.0        0.66  \n",
              "2  0.020280  0.048154  0.030391    1.0        1.00  \n",
              "3  0.027145  0.018040  0.030181    1.0        1.00  \n",
              "4  0.023212  0.011266  0.035695    0.0        0.66  \n",
              "\n",
              "[5 rows x 4610 columns]"
            ],
            "text/html": [
              "\n",
              "  <div id=\"df-d27d6d73-34af-4995-bbef-04cf51241466\">\n",
              "    <div class=\"colab-df-container\">\n",
              "      <div>\n",
              "<style scoped>\n",
              "    .dataframe tbody tr th:only-of-type {\n",
              "        vertical-align: middle;\n",
              "    }\n",
              "\n",
              "    .dataframe tbody tr th {\n",
              "        vertical-align: top;\n",
              "    }\n",
              "\n",
              "    .dataframe thead th {\n",
              "        text-align: right;\n",
              "    }\n",
              "</style>\n",
              "<table border=\"1\" class=\"dataframe\">\n",
              "  <thead>\n",
              "    <tr style=\"text-align: right;\">\n",
              "      <th></th>\n",
              "      <th>CNNs</th>\n",
              "      <th>CNNs.1</th>\n",
              "      <th>CNNs.2</th>\n",
              "      <th>CNNs.3</th>\n",
              "      <th>CNNs.4</th>\n",
              "      <th>CNNs.5</th>\n",
              "      <th>CNNs.6</th>\n",
              "      <th>CNNs.7</th>\n",
              "      <th>CNNs.8</th>\n",
              "      <th>CNNs.9</th>\n",
              "      <th>...</th>\n",
              "      <th>GIST.504</th>\n",
              "      <th>GIST.505</th>\n",
              "      <th>GIST.506</th>\n",
              "      <th>GIST.507</th>\n",
              "      <th>GIST.508</th>\n",
              "      <th>GIST.509</th>\n",
              "      <th>GIST.510</th>\n",
              "      <th>GIST.511</th>\n",
              "      <th>label</th>\n",
              "      <th>confidence</th>\n",
              "    </tr>\n",
              "  </thead>\n",
              "  <tbody>\n",
              "    <tr>\n",
              "      <th>0</th>\n",
              "      <td>0.96629</td>\n",
              "      <td>0.00000</td>\n",
              "      <td>0.000000</td>\n",
              "      <td>0.184890</td>\n",
              "      <td>1.3535</td>\n",
              "      <td>0.00000</td>\n",
              "      <td>0.66736</td>\n",
              "      <td>0.00000</td>\n",
              "      <td>0.30246</td>\n",
              "      <td>0.00000</td>\n",
              "      <td>...</td>\n",
              "      <td>0.025722</td>\n",
              "      <td>0.029769</td>\n",
              "      <td>0.022448</td>\n",
              "      <td>0.018352</td>\n",
              "      <td>0.059976</td>\n",
              "      <td>0.018121</td>\n",
              "      <td>0.034956</td>\n",
              "      <td>0.018626</td>\n",
              "      <td>0.0</td>\n",
              "      <td>1.00</td>\n",
              "    </tr>\n",
              "    <tr>\n",
              "      <th>1</th>\n",
              "      <td>0.42980</td>\n",
              "      <td>0.00000</td>\n",
              "      <td>0.142340</td>\n",
              "      <td>0.000000</td>\n",
              "      <td>0.0000</td>\n",
              "      <td>0.00000</td>\n",
              "      <td>0.00000</td>\n",
              "      <td>0.83749</td>\n",
              "      <td>0.00000</td>\n",
              "      <td>0.00000</td>\n",
              "      <td>...</td>\n",
              "      <td>0.053810</td>\n",
              "      <td>0.030060</td>\n",
              "      <td>0.036972</td>\n",
              "      <td>0.039459</td>\n",
              "      <td>0.025726</td>\n",
              "      <td>0.015295</td>\n",
              "      <td>0.032943</td>\n",
              "      <td>0.015002</td>\n",
              "      <td>1.0</td>\n",
              "      <td>0.66</td>\n",
              "    </tr>\n",
              "    <tr>\n",
              "      <th>2</th>\n",
              "      <td>0.00000</td>\n",
              "      <td>0.00000</td>\n",
              "      <td>0.000000</td>\n",
              "      <td>0.968570</td>\n",
              "      <td>0.0000</td>\n",
              "      <td>0.00000</td>\n",
              "      <td>0.00000</td>\n",
              "      <td>0.00000</td>\n",
              "      <td>0.00000</td>\n",
              "      <td>0.00000</td>\n",
              "      <td>...</td>\n",
              "      <td>0.042560</td>\n",
              "      <td>0.045289</td>\n",
              "      <td>0.047827</td>\n",
              "      <td>0.039196</td>\n",
              "      <td>0.046091</td>\n",
              "      <td>0.020280</td>\n",
              "      <td>0.048154</td>\n",
              "      <td>0.030391</td>\n",
              "      <td>1.0</td>\n",
              "      <td>1.00</td>\n",
              "    </tr>\n",
              "    <tr>\n",
              "      <th>3</th>\n",
              "      <td>0.00000</td>\n",
              "      <td>0.13278</td>\n",
              "      <td>0.032179</td>\n",
              "      <td>0.742990</td>\n",
              "      <td>0.0000</td>\n",
              "      <td>0.67521</td>\n",
              "      <td>0.00000</td>\n",
              "      <td>0.18638</td>\n",
              "      <td>1.06300</td>\n",
              "      <td>0.74294</td>\n",
              "      <td>...</td>\n",
              "      <td>0.040872</td>\n",
              "      <td>0.035247</td>\n",
              "      <td>0.033755</td>\n",
              "      <td>0.049919</td>\n",
              "      <td>0.058322</td>\n",
              "      <td>0.027145</td>\n",
              "      <td>0.018040</td>\n",
              "      <td>0.030181</td>\n",
              "      <td>1.0</td>\n",
              "      <td>1.00</td>\n",
              "    </tr>\n",
              "    <tr>\n",
              "      <th>4</th>\n",
              "      <td>0.00000</td>\n",
              "      <td>0.12242</td>\n",
              "      <td>0.627020</td>\n",
              "      <td>0.017635</td>\n",
              "      <td>0.0000</td>\n",
              "      <td>0.00000</td>\n",
              "      <td>0.28884</td>\n",
              "      <td>1.10050</td>\n",
              "      <td>0.00000</td>\n",
              "      <td>0.15511</td>\n",
              "      <td>...</td>\n",
              "      <td>0.025219</td>\n",
              "      <td>0.005606</td>\n",
              "      <td>0.024671</td>\n",
              "      <td>0.025305</td>\n",
              "      <td>0.025466</td>\n",
              "      <td>0.023212</td>\n",
              "      <td>0.011266</td>\n",
              "      <td>0.035695</td>\n",
              "      <td>0.0</td>\n",
              "      <td>0.66</td>\n",
              "    </tr>\n",
              "  </tbody>\n",
              "</table>\n",
              "<p>5 rows × 4610 columns</p>\n",
              "</div>\n",
              "      <button class=\"colab-df-convert\" onclick=\"convertToInteractive('df-d27d6d73-34af-4995-bbef-04cf51241466')\"\n",
              "              title=\"Convert this dataframe to an interactive table.\"\n",
              "              style=\"display:none;\">\n",
              "        \n",
              "  <svg xmlns=\"http://www.w3.org/2000/svg\" height=\"24px\"viewBox=\"0 0 24 24\"\n",
              "       width=\"24px\">\n",
              "    <path d=\"M0 0h24v24H0V0z\" fill=\"none\"/>\n",
              "    <path d=\"M18.56 5.44l.94 2.06.94-2.06 2.06-.94-2.06-.94-.94-2.06-.94 2.06-2.06.94zm-11 1L8.5 8.5l.94-2.06 2.06-.94-2.06-.94L8.5 2.5l-.94 2.06-2.06.94zm10 10l.94 2.06.94-2.06 2.06-.94-2.06-.94-.94-2.06-.94 2.06-2.06.94z\"/><path d=\"M17.41 7.96l-1.37-1.37c-.4-.4-.92-.59-1.43-.59-.52 0-1.04.2-1.43.59L10.3 9.45l-7.72 7.72c-.78.78-.78 2.05 0 2.83L4 21.41c.39.39.9.59 1.41.59.51 0 1.02-.2 1.41-.59l7.78-7.78 2.81-2.81c.8-.78.8-2.07 0-2.86zM5.41 20L4 18.59l7.72-7.72 1.47 1.35L5.41 20z\"/>\n",
              "  </svg>\n",
              "      </button>\n",
              "      \n",
              "  <style>\n",
              "    .colab-df-container {\n",
              "      display:flex;\n",
              "      flex-wrap:wrap;\n",
              "      gap: 12px;\n",
              "    }\n",
              "\n",
              "    .colab-df-convert {\n",
              "      background-color: #E8F0FE;\n",
              "      border: none;\n",
              "      border-radius: 50%;\n",
              "      cursor: pointer;\n",
              "      display: none;\n",
              "      fill: #1967D2;\n",
              "      height: 32px;\n",
              "      padding: 0 0 0 0;\n",
              "      width: 32px;\n",
              "    }\n",
              "\n",
              "    .colab-df-convert:hover {\n",
              "      background-color: #E2EBFA;\n",
              "      box-shadow: 0px 1px 2px rgba(60, 64, 67, 0.3), 0px 1px 3px 1px rgba(60, 64, 67, 0.15);\n",
              "      fill: #174EA6;\n",
              "    }\n",
              "\n",
              "    [theme=dark] .colab-df-convert {\n",
              "      background-color: #3B4455;\n",
              "      fill: #D2E3FC;\n",
              "    }\n",
              "\n",
              "    [theme=dark] .colab-df-convert:hover {\n",
              "      background-color: #434B5C;\n",
              "      box-shadow: 0px 1px 3px 1px rgba(0, 0, 0, 0.15);\n",
              "      filter: drop-shadow(0px 1px 2px rgba(0, 0, 0, 0.3));\n",
              "      fill: #FFFFFF;\n",
              "    }\n",
              "  </style>\n",
              "\n",
              "      <script>\n",
              "        const buttonEl =\n",
              "          document.querySelector('#df-d27d6d73-34af-4995-bbef-04cf51241466 button.colab-df-convert');\n",
              "        buttonEl.style.display =\n",
              "          google.colab.kernel.accessAllowed ? 'block' : 'none';\n",
              "\n",
              "        async function convertToInteractive(key) {\n",
              "          const element = document.querySelector('#df-d27d6d73-34af-4995-bbef-04cf51241466');\n",
              "          const dataTable =\n",
              "            await google.colab.kernel.invokeFunction('convertToInteractive',\n",
              "                                                     [key], {});\n",
              "          if (!dataTable) return;\n",
              "\n",
              "          const docLinkHtml = 'Like what you see? Visit the ' +\n",
              "            '<a target=\"_blank\" href=https://colab.research.google.com/notebooks/data_table.ipynb>data table notebook</a>'\n",
              "            + ' to learn more about interactive tables.';\n",
              "          element.innerHTML = '';\n",
              "          dataTable['output_type'] = 'display_data';\n",
              "          await google.colab.output.renderOutput(dataTable, element);\n",
              "          const docLink = document.createElement('div');\n",
              "          docLink.innerHTML = docLinkHtml;\n",
              "          element.appendChild(docLink);\n",
              "        }\n",
              "      </script>\n",
              "    </div>\n",
              "  </div>\n",
              "  "
            ]
          },
          "metadata": {},
          "execution_count": 4
        }
      ],
      "source": [
        "train_data.head()"
      ]
    },
    {
      "cell_type": "code",
      "source": [
        "test_data.head()"
      ],
      "metadata": {
        "colab": {
          "base_uri": "https://localhost:8080/",
          "height": 279
        },
        "id": "X_JwpEIGEgiJ",
        "outputId": "ce99308b-f404-4720-d57e-3ff1f8c7b252"
      },
      "execution_count": 5,
      "outputs": [
        {
          "output_type": "execute_result",
          "data": {
            "text/plain": [
              "       CNNs   CNNs.1  CNNs.2   CNNs.3   CNNs.4   CNNs.5   CNNs.6   CNNs.7  \\\n",
              "0  0.787990      NaN  2.0246  0.00000  0.00000  3.29550  0.00000  0.12965   \n",
              "1  0.000000  0.72265     NaN  0.15856      NaN      NaN  0.00000  0.00000   \n",
              "2  0.000000      NaN  0.0000  0.00000  0.64827  0.48099  0.00000  0.71721   \n",
              "3  0.044644  0.00000     NaN  0.71294  0.00000      NaN      NaN  0.00000   \n",
              "4  0.848170      NaN  0.0000      NaN  0.00000  0.00000  0.25626  0.00000   \n",
              "\n",
              "    CNNs.8  CNNs.9  ...  GIST.502  GIST.503  GIST.504  GIST.505  GIST.506  \\\n",
              "0  0.00000     NaN  ...       NaN  0.034861  0.045078       NaN       NaN   \n",
              "1      NaN     0.0  ...  0.004348  0.007177  0.014610       NaN  0.007715   \n",
              "2  0.70541     0.0  ...  0.026724  0.027204  0.021123  0.027027  0.029328   \n",
              "3  0.00000     0.0  ...  0.026242  0.029739  0.025212       NaN  0.021912   \n",
              "4  0.79886     0.0  ...  0.003493  0.002661       NaN  0.069194  0.040851   \n",
              "\n",
              "   GIST.507  GIST.508  GIST.509  GIST.510  GIST.511  \n",
              "0  0.031250  0.026715  0.007441  0.028426       NaN  \n",
              "1  0.014736  0.009790  0.036324       NaN       NaN  \n",
              "2  0.031330       NaN  0.013995  0.033780  0.013178  \n",
              "3  0.020740  0.024278  0.001928  0.015194  0.023487  \n",
              "4  0.006043       NaN  0.035340  0.024834  0.076113  \n",
              "\n",
              "[5 rows x 4608 columns]"
            ],
            "text/html": [
              "\n",
              "  <div id=\"df-66019415-e23a-445a-8d25-9cdadea97a5e\">\n",
              "    <div class=\"colab-df-container\">\n",
              "      <div>\n",
              "<style scoped>\n",
              "    .dataframe tbody tr th:only-of-type {\n",
              "        vertical-align: middle;\n",
              "    }\n",
              "\n",
              "    .dataframe tbody tr th {\n",
              "        vertical-align: top;\n",
              "    }\n",
              "\n",
              "    .dataframe thead th {\n",
              "        text-align: right;\n",
              "    }\n",
              "</style>\n",
              "<table border=\"1\" class=\"dataframe\">\n",
              "  <thead>\n",
              "    <tr style=\"text-align: right;\">\n",
              "      <th></th>\n",
              "      <th>CNNs</th>\n",
              "      <th>CNNs.1</th>\n",
              "      <th>CNNs.2</th>\n",
              "      <th>CNNs.3</th>\n",
              "      <th>CNNs.4</th>\n",
              "      <th>CNNs.5</th>\n",
              "      <th>CNNs.6</th>\n",
              "      <th>CNNs.7</th>\n",
              "      <th>CNNs.8</th>\n",
              "      <th>CNNs.9</th>\n",
              "      <th>...</th>\n",
              "      <th>GIST.502</th>\n",
              "      <th>GIST.503</th>\n",
              "      <th>GIST.504</th>\n",
              "      <th>GIST.505</th>\n",
              "      <th>GIST.506</th>\n",
              "      <th>GIST.507</th>\n",
              "      <th>GIST.508</th>\n",
              "      <th>GIST.509</th>\n",
              "      <th>GIST.510</th>\n",
              "      <th>GIST.511</th>\n",
              "    </tr>\n",
              "  </thead>\n",
              "  <tbody>\n",
              "    <tr>\n",
              "      <th>0</th>\n",
              "      <td>0.787990</td>\n",
              "      <td>NaN</td>\n",
              "      <td>2.0246</td>\n",
              "      <td>0.00000</td>\n",
              "      <td>0.00000</td>\n",
              "      <td>3.29550</td>\n",
              "      <td>0.00000</td>\n",
              "      <td>0.12965</td>\n",
              "      <td>0.00000</td>\n",
              "      <td>NaN</td>\n",
              "      <td>...</td>\n",
              "      <td>NaN</td>\n",
              "      <td>0.034861</td>\n",
              "      <td>0.045078</td>\n",
              "      <td>NaN</td>\n",
              "      <td>NaN</td>\n",
              "      <td>0.031250</td>\n",
              "      <td>0.026715</td>\n",
              "      <td>0.007441</td>\n",
              "      <td>0.028426</td>\n",
              "      <td>NaN</td>\n",
              "    </tr>\n",
              "    <tr>\n",
              "      <th>1</th>\n",
              "      <td>0.000000</td>\n",
              "      <td>0.72265</td>\n",
              "      <td>NaN</td>\n",
              "      <td>0.15856</td>\n",
              "      <td>NaN</td>\n",
              "      <td>NaN</td>\n",
              "      <td>0.00000</td>\n",
              "      <td>0.00000</td>\n",
              "      <td>NaN</td>\n",
              "      <td>0.0</td>\n",
              "      <td>...</td>\n",
              "      <td>0.004348</td>\n",
              "      <td>0.007177</td>\n",
              "      <td>0.014610</td>\n",
              "      <td>NaN</td>\n",
              "      <td>0.007715</td>\n",
              "      <td>0.014736</td>\n",
              "      <td>0.009790</td>\n",
              "      <td>0.036324</td>\n",
              "      <td>NaN</td>\n",
              "      <td>NaN</td>\n",
              "    </tr>\n",
              "    <tr>\n",
              "      <th>2</th>\n",
              "      <td>0.000000</td>\n",
              "      <td>NaN</td>\n",
              "      <td>0.0000</td>\n",
              "      <td>0.00000</td>\n",
              "      <td>0.64827</td>\n",
              "      <td>0.48099</td>\n",
              "      <td>0.00000</td>\n",
              "      <td>0.71721</td>\n",
              "      <td>0.70541</td>\n",
              "      <td>0.0</td>\n",
              "      <td>...</td>\n",
              "      <td>0.026724</td>\n",
              "      <td>0.027204</td>\n",
              "      <td>0.021123</td>\n",
              "      <td>0.027027</td>\n",
              "      <td>0.029328</td>\n",
              "      <td>0.031330</td>\n",
              "      <td>NaN</td>\n",
              "      <td>0.013995</td>\n",
              "      <td>0.033780</td>\n",
              "      <td>0.013178</td>\n",
              "    </tr>\n",
              "    <tr>\n",
              "      <th>3</th>\n",
              "      <td>0.044644</td>\n",
              "      <td>0.00000</td>\n",
              "      <td>NaN</td>\n",
              "      <td>0.71294</td>\n",
              "      <td>0.00000</td>\n",
              "      <td>NaN</td>\n",
              "      <td>NaN</td>\n",
              "      <td>0.00000</td>\n",
              "      <td>0.00000</td>\n",
              "      <td>0.0</td>\n",
              "      <td>...</td>\n",
              "      <td>0.026242</td>\n",
              "      <td>0.029739</td>\n",
              "      <td>0.025212</td>\n",
              "      <td>NaN</td>\n",
              "      <td>0.021912</td>\n",
              "      <td>0.020740</td>\n",
              "      <td>0.024278</td>\n",
              "      <td>0.001928</td>\n",
              "      <td>0.015194</td>\n",
              "      <td>0.023487</td>\n",
              "    </tr>\n",
              "    <tr>\n",
              "      <th>4</th>\n",
              "      <td>0.848170</td>\n",
              "      <td>NaN</td>\n",
              "      <td>0.0000</td>\n",
              "      <td>NaN</td>\n",
              "      <td>0.00000</td>\n",
              "      <td>0.00000</td>\n",
              "      <td>0.25626</td>\n",
              "      <td>0.00000</td>\n",
              "      <td>0.79886</td>\n",
              "      <td>0.0</td>\n",
              "      <td>...</td>\n",
              "      <td>0.003493</td>\n",
              "      <td>0.002661</td>\n",
              "      <td>NaN</td>\n",
              "      <td>0.069194</td>\n",
              "      <td>0.040851</td>\n",
              "      <td>0.006043</td>\n",
              "      <td>NaN</td>\n",
              "      <td>0.035340</td>\n",
              "      <td>0.024834</td>\n",
              "      <td>0.076113</td>\n",
              "    </tr>\n",
              "  </tbody>\n",
              "</table>\n",
              "<p>5 rows × 4608 columns</p>\n",
              "</div>\n",
              "      <button class=\"colab-df-convert\" onclick=\"convertToInteractive('df-66019415-e23a-445a-8d25-9cdadea97a5e')\"\n",
              "              title=\"Convert this dataframe to an interactive table.\"\n",
              "              style=\"display:none;\">\n",
              "        \n",
              "  <svg xmlns=\"http://www.w3.org/2000/svg\" height=\"24px\"viewBox=\"0 0 24 24\"\n",
              "       width=\"24px\">\n",
              "    <path d=\"M0 0h24v24H0V0z\" fill=\"none\"/>\n",
              "    <path d=\"M18.56 5.44l.94 2.06.94-2.06 2.06-.94-2.06-.94-.94-2.06-.94 2.06-2.06.94zm-11 1L8.5 8.5l.94-2.06 2.06-.94-2.06-.94L8.5 2.5l-.94 2.06-2.06.94zm10 10l.94 2.06.94-2.06 2.06-.94-2.06-.94-.94-2.06-.94 2.06-2.06.94z\"/><path d=\"M17.41 7.96l-1.37-1.37c-.4-.4-.92-.59-1.43-.59-.52 0-1.04.2-1.43.59L10.3 9.45l-7.72 7.72c-.78.78-.78 2.05 0 2.83L4 21.41c.39.39.9.59 1.41.59.51 0 1.02-.2 1.41-.59l7.78-7.78 2.81-2.81c.8-.78.8-2.07 0-2.86zM5.41 20L4 18.59l7.72-7.72 1.47 1.35L5.41 20z\"/>\n",
              "  </svg>\n",
              "      </button>\n",
              "      \n",
              "  <style>\n",
              "    .colab-df-container {\n",
              "      display:flex;\n",
              "      flex-wrap:wrap;\n",
              "      gap: 12px;\n",
              "    }\n",
              "\n",
              "    .colab-df-convert {\n",
              "      background-color: #E8F0FE;\n",
              "      border: none;\n",
              "      border-radius: 50%;\n",
              "      cursor: pointer;\n",
              "      display: none;\n",
              "      fill: #1967D2;\n",
              "      height: 32px;\n",
              "      padding: 0 0 0 0;\n",
              "      width: 32px;\n",
              "    }\n",
              "\n",
              "    .colab-df-convert:hover {\n",
              "      background-color: #E2EBFA;\n",
              "      box-shadow: 0px 1px 2px rgba(60, 64, 67, 0.3), 0px 1px 3px 1px rgba(60, 64, 67, 0.15);\n",
              "      fill: #174EA6;\n",
              "    }\n",
              "\n",
              "    [theme=dark] .colab-df-convert {\n",
              "      background-color: #3B4455;\n",
              "      fill: #D2E3FC;\n",
              "    }\n",
              "\n",
              "    [theme=dark] .colab-df-convert:hover {\n",
              "      background-color: #434B5C;\n",
              "      box-shadow: 0px 1px 3px 1px rgba(0, 0, 0, 0.15);\n",
              "      filter: drop-shadow(0px 1px 2px rgba(0, 0, 0, 0.3));\n",
              "      fill: #FFFFFF;\n",
              "    }\n",
              "  </style>\n",
              "\n",
              "      <script>\n",
              "        const buttonEl =\n",
              "          document.querySelector('#df-66019415-e23a-445a-8d25-9cdadea97a5e button.colab-df-convert');\n",
              "        buttonEl.style.display =\n",
              "          google.colab.kernel.accessAllowed ? 'block' : 'none';\n",
              "\n",
              "        async function convertToInteractive(key) {\n",
              "          const element = document.querySelector('#df-66019415-e23a-445a-8d25-9cdadea97a5e');\n",
              "          const dataTable =\n",
              "            await google.colab.kernel.invokeFunction('convertToInteractive',\n",
              "                                                     [key], {});\n",
              "          if (!dataTable) return;\n",
              "\n",
              "          const docLinkHtml = 'Like what you see? Visit the ' +\n",
              "            '<a target=\"_blank\" href=https://colab.research.google.com/notebooks/data_table.ipynb>data table notebook</a>'\n",
              "            + ' to learn more about interactive tables.';\n",
              "          element.innerHTML = '';\n",
              "          dataTable['output_type'] = 'display_data';\n",
              "          await google.colab.output.renderOutput(dataTable, element);\n",
              "          const docLink = document.createElement('div');\n",
              "          docLink.innerHTML = docLinkHtml;\n",
              "          element.appendChild(docLink);\n",
              "        }\n",
              "      </script>\n",
              "    </div>\n",
              "  </div>\n",
              "  "
            ]
          },
          "metadata": {},
          "execution_count": 5
        }
      ]
    },
    {
      "cell_type": "code",
      "source": [
        "plt.rcParams['figure.figsize'] = [5, 5]\n",
        "\n",
        "# Check class balance\n",
        "balance = train_data['label'].value_counts()/len(train_data)\n",
        "plt.xticks(np.arange(0,2))\n",
        "plt.bar(x=[0,1], height=balance.values, color=['blue', 'orange'])\n",
        "plt.show()"
      ],
      "metadata": {
        "colab": {
          "base_uri": "https://localhost:8080/",
          "height": 320
        },
        "id": "2IE6gYJ_OpLI",
        "outputId": "866bf240-ccd2-4506-8b11-1ed8eed50088"
      },
      "execution_count": 6,
      "outputs": [
        {
          "output_type": "display_data",
          "data": {
            "text/plain": [
              "<Figure size 360x360 with 1 Axes>"
            ],
            "image/png": "[encoded data removed]"
          },
          "metadata": {
            "needs_background": "light"
          }
        }
      ]
    },
    {
      "cell_type": "markdown",
      "metadata": {
        "id": "nc58JMp456Hu"
      },
      "source": [
        "# Pre-processing"
      ]
    },
    {
      "cell_type": "markdown",
      "metadata": {
        "id": "6ap1LJhOPtfm"
      },
      "source": [
        "## Imputation"
      ]
    },
    {
      "cell_type": "code",
      "execution_count": 7,
      "metadata": {
        "colab": {
          "base_uri": "https://localhost:8080/"
        },
        "id": "hV228j8lUHtS",
        "outputId": "3e1440a6-e075-4965-ee92-c3d9ac67f51d"
      },
      "outputs": [
        {
          "output_type": "execute_result",
          "data": {
            "text/plain": [
              "CNNs          545\n",
              "CNNs.1        583\n",
              "CNNs.2        584\n",
              "CNNs.3        528\n",
              "CNNs.4        556\n",
              "             ... \n",
              "GIST.509      540\n",
              "GIST.510      556\n",
              "GIST.511      568\n",
              "label           0\n",
              "confidence      0\n",
              "Length: 4610, dtype: int64"
            ]
          },
          "metadata": {},
          "execution_count": 7
        }
      ],
      "source": [
        "# Print the number of missing values\n",
        "train_data.isna().sum()"
      ]
    },
    {
      "cell_type": "code",
      "execution_count": 8,
      "metadata": {
        "colab": {
          "base_uri": "https://localhost:8080/"
        },
        "id": "1-OSdFZgWt1j",
        "outputId": "94a539bb-be36-4c3c-ab36-ecd361885c77"
      },
      "outputs": [
        {
          "output_type": "execute_result",
          "data": {
            "text/plain": [
              "(3400, 4610)"
            ]
          },
          "metadata": {},
          "execution_count": 8
        }
      ],
      "source": [
        "# Remove feature if it has more than 20% of missing values\n",
        "train_data = train_data.dropna(thresh=train_data.shape[0]*0.80, axis=1)\n",
        "train_data.shape"
      ]
    },
    {
      "cell_type": "code",
      "execution_count": 9,
      "metadata": {
        "colab": {
          "base_uri": "https://localhost:8080/"
        },
        "id": "qCdLlxvJgkRC",
        "outputId": "455f85e8-a9d4-4a31-fec3-1f16e91624bc"
      },
      "outputs": [
        {
          "output_type": "execute_result",
          "data": {
            "text/plain": [
              "0"
            ]
          },
          "metadata": {},
          "execution_count": 9
        }
      ],
      "source": [
        "# Impute missing values with column means\n",
        "train_data = train_data.fillna(value=train_data.mean())\n",
        "\n",
        "# Check if any column has missing values\n",
        "num_nan = train_data.isna().sum().values\n",
        "len(num_nan[num_nan != 0])"
      ]
    },
    {
      "cell_type": "markdown",
      "metadata": {
        "id": "7fXz0J5PxvSz"
      },
      "source": [
        "## Standartization"
      ]
    },
    {
      "cell_type": "code",
      "execution_count": 10,
      "metadata": {
        "colab": {
          "base_uri": "https://localhost:8080/",
          "height": 606
        },
        "id": "34mNrFiOK_4w",
        "outputId": "6df78095-52ad-450c-8e1e-f0156339745b"
      },
      "outputs": [
        {
          "output_type": "display_data",
          "data": {
            "text/plain": [
              "<Figure size 1080x720 with 6 Axes>"
            ],
            "image/png": "[encoded data removed]"
          },
          "metadata": {
            "needs_background": "light"
          }
        }
      ],
      "source": [
        "# Visualise distributions of 6 random features\n",
        "cols_1 = train_data.iloc[:,:-514].sample(n=3,axis='columns', random_state=0) # Take 3 CNN features\n",
        "cols_2 = train_data.iloc[:,-514:].sample(n=3,axis='columns', random_state=0) # And 3 gist features\n",
        "cols = pd.concat([cols_1, cols_2], axis=1)\n",
        "\n",
        "plt.rcParams['figure.figsize'] = [15, 10]\n",
        "for i, col in enumerate(cols):\n",
        "    plt.subplot(2,3,i+1)\n",
        "    ax = cols[col].hist(bins=16)\n",
        "    ax.set_xlabel(col)\n",
        "\n",
        "plt.show()"
      ]
    },
    {
      "cell_type": "code",
      "execution_count": 11,
      "metadata": {
        "colab": {
          "base_uri": "https://localhost:8080/"
        },
        "id": "kU7UbuD9IxO5",
        "outputId": "a1290602-75f8-4fe3-e4cd-f2499559b945"
      },
      "outputs": [
        {
          "output_type": "execute_result",
          "data": {
            "text/plain": [
              "(3400, 4610)"
            ]
          },
          "metadata": {},
          "execution_count": 11
        }
      ],
      "source": [
        "from sklearn.preprocessing import StandardScaler\n",
        "\n",
        "# Scale values to have a mean of 0 and std of 1\n",
        "std_scaler = StandardScaler()\n",
        "train_data_norm = std_scaler.fit_transform(train_data)\n",
        "train_data_norm = pd.DataFrame(train_data_norm, index=train_data.index, columns=train_data.columns) # convert back to DataFrame\n",
        "train_data_norm.shape"
      ]
    },
    {
      "cell_type": "code",
      "source": [
        "# Plot the distributions again to see what has changed\n",
        "cols_1 = train_data_norm.iloc[:,:-514].sample(n=3,axis='columns', random_state=0) # Take 3 CNN features\n",
        "cols_2 = train_data_norm.iloc[:,-514:-2].sample(n=3,axis='columns', random_state=0) # And 3 gist features\n",
        "cols = pd.concat([cols_1, cols_2], axis=1)\n",
        "\n",
        "plt.rcParams['figure.figsize'] = [15, 10]\n",
        "for i, col in enumerate(cols):\n",
        "    plt.subplot(2,3,i+1)\n",
        "    ax = cols[col].hist(bins=16)\n",
        "    ax.set_xlabel(col)\n",
        "\n",
        "plt.savefig(\"hists.png\", bbox_inches = 'tight')\n",
        "plt.show()"
      ],
      "metadata": {
        "colab": {
          "base_uri": "https://localhost:8080/",
          "height": 606
        },
        "id": "mnhIU5vH1FoD",
        "outputId": "8a46e07b-7a7c-41a3-bd84-34138b2d1ab0"
      },
      "execution_count": 12,
      "outputs": [
        {
          "output_type": "display_data",
          "data": {
            "text/plain": [
              "<Figure size 1080x720 with 6 Axes>"
            ],
            "image/png": "[encoded data removed]"
          },
          "metadata": {
            "needs_background": "light"
          }
        }
      ]
    },
    {
      "cell_type": "markdown",
      "metadata": {
        "id": "A8qNKDKh4qZJ"
      },
      "source": [
        "## Normalization"
      ]
    },
    {
      "cell_type": "code",
      "execution_count": 13,
      "metadata": {
        "colab": {
          "base_uri": "https://localhost:8080/"
        },
        "id": "xa61oPzn4sD_",
        "outputId": "7572677c-5304-4618-8733-40821835f08f"
      },
      "outputs": [
        {
          "output_type": "execute_result",
          "data": {
            "text/plain": [
              "(3400, 4610)"
            ]
          },
          "metadata": {},
          "execution_count": 13
        }
      ],
      "source": [
        "from sklearn.preprocessing import MinMaxScaler \n",
        "\n",
        "# Translate features to range 0-1\n",
        "minmax_scaler = MinMaxScaler()\n",
        "train_data_norm = minmax_scaler.fit_transform(train_data_norm)\n",
        "train_data_norm = pd.DataFrame(train_data_norm, index=train_data.index, columns=train_data.columns) # convert back to DataFrame\n",
        "train_data_norm.shape"
      ]
    },
    {
      "cell_type": "code",
      "execution_count": 14,
      "metadata": {
        "colab": {
          "base_uri": "https://localhost:8080/",
          "height": 606
        },
        "id": "zkGAHHdT5T25",
        "outputId": "7051683e-7dd5-42f5-990c-83238b3a1237"
      },
      "outputs": [
        {
          "output_type": "display_data",
          "data": {
            "text/plain": [
              "<Figure size 1080x720 with 6 Axes>"
            ],
            "image/png": "[encoded data removed]"
          },
          "metadata": {
            "needs_background": "light"
          }
        }
      ],
      "source": [
        "# Plot the distributions again to see what has changed\n",
        "cols_1 = train_data_norm.iloc[:,:-514].sample(n=3,axis='columns', random_state=0) # Take 3 CNN features\n",
        "cols_2 = train_data_norm.iloc[:,-514:-2].sample(n=3,axis='columns', random_state=0) # And 3 gist features\n",
        "cols = pd.concat([cols_1, cols_2], axis=1)\n",
        "\n",
        "plt.rcParams['figure.figsize'] = [15, 10]\n",
        "for i, col in enumerate(cols):\n",
        "    plt.subplot(2,3,i+1)\n",
        "    ax = cols[col].hist(bins=16)\n",
        "    ax.set_xlabel(col)\n",
        "\n",
        "plt.savefig(\"hists.png\", bbox_inches = 'tight')\n",
        "plt.show()"
      ]
    },
    {
      "cell_type": "markdown",
      "metadata": {
        "id": "BZwvywfB8jPP"
      },
      "source": [
        "# Model Selection"
      ]
    },
    {
      "cell_type": "code",
      "source": [
        "# Separate features from class labels\n",
        "data = train_data.drop(['label','confidence'], axis=1)\n",
        "classes = train_data['label']\n",
        "confidences = train_data['confidence']"
      ],
      "metadata": {
        "id": "TEy969d4zxN2"
      },
      "execution_count": 15,
      "outputs": []
    },
    {
      "cell_type": "code",
      "execution_count": 16,
      "metadata": {
        "id": "AG8w6mlfebE3"
      },
      "outputs": [],
      "source": [
        "from sklearn.svm import SVC\n",
        "from sklearn.pipeline import Pipeline"
      ]
    },
    {
      "cell_type": "code",
      "execution_count": 17,
      "metadata": {
        "id": "rdjuvFHLT2o3"
      },
      "outputs": [],
      "source": [
        "# Define classifiers\n",
        "classifiers = { \n",
        "    'svm_rbf': Pipeline([('std_scaler', std_scaler), \n",
        "                         ('minmax_scaler', minmax_scaler), \n",
        "                         ('clf', SVC(C=1.0, kernel='rbf'))]),\n",
        "               \n",
        "    'svm_linear': Pipeline([('std_scaler', std_scaler), \n",
        "                            ('minmax_scaler', minmax_scaler), \n",
        "                            ('clf', SVC(C=0.01, kernel='linear'))]),           \n",
        "    }"
      ]
    },
    {
      "cell_type": "markdown",
      "metadata": {
        "id": "OJO5fII_s9Wg"
      },
      "source": [
        "## Choosing Dimensionality Reduction Method"
      ]
    },
    {
      "cell_type": "markdown",
      "metadata": {
        "id": "MVejgTuitFd9"
      },
      "source": [
        "Use Anova to select most important features:"
      ]
    },
    {
      "cell_type": "code",
      "execution_count": 18,
      "metadata": {
        "id": "kPAQDmowaoK_"
      },
      "outputs": [],
      "source": [
        "from sklearn.feature_selection import SelectKBest, f_classif\n",
        "from sklearn.model_selection import cross_validate\n",
        "\n",
        "def do_feature_selection(clf, X, y, num_feats, label, include_plot=True):\n",
        "    '''\n",
        "    Perform Anova feature selection\n",
        "    :param clf: pipeline object with an estimator at the end\n",
        "    :X: dataset of observations\n",
        "    :y: corresponding class labels\n",
        "    :num_feats: list of numbers corresponding to the amount of features to be tried\n",
        "    :include_plot: True if the figure should be drawn after selection\n",
        "    :return: a dict where each key is the number of features and corresponding value is the list of selected features\n",
        "    '''\n",
        "    results = {}\n",
        "    acc = []\n",
        "\n",
        "    # Add anova as a first step of a pipeline\n",
        "    clf.steps.insert(0,['anova', SelectKBest(f_classif)])\n",
        "\n",
        "    for i in num_feats:\n",
        "        # Set the number of features for anova\n",
        "        clf.set_params(anova__k=i)\n",
        "\n",
        "        # Cross-validate\n",
        "        cv = cross_validate(clf, X, y, cv=5, return_estimator=True)\n",
        "        scores = cv['test_score'] # get the scores for validation data\n",
        "        estimators = cv['estimator'] # get the classifiers used during cross validation\n",
        "\n",
        "        # Save selected feature indexes\n",
        "        feats = estimators[0].steps[0][1].get_support(indices=True) \n",
        "        results[i] = feats \n",
        "        acc.append(np.mean(scores))\n",
        "\n",
        "    # Remove anova from the pipeline\n",
        "    clf.steps.pop(0)\n",
        "\n",
        "    # Plot the accuracy\n",
        "    if include_plot:\n",
        "        plt.plot(num_features, acc, label=label)\n",
        "        plt.legend(loc='lower right')\n",
        "    \n",
        "    return results"
      ]
    },
    {
      "cell_type": "code",
      "source": [
        "# Number of features for anova to be tried\n",
        "num_features = [144, 288, 576, 1152, 2304, 4608]\n",
        "\n",
        "plt.rcParams['figure.figsize'] = [5, 5]\n",
        "plt.title('ANOVA')\n",
        "plt.xlabel('Number of features selected')\n",
        "plt.ylabel('Accuracy')\n",
        "\n",
        "clf_results_anova = {}\n",
        "for label, clf in classifiers.items():\n",
        "    feats = do_feature_selection(clf, data, classes, num_features, label)\n",
        "    clf_results_anova[label] = feats\n",
        "\n",
        "plt.savefig(\"anova.png\", bbox_inches = 'tight')\n",
        "plt.show()"
      ],
      "metadata": {
        "colab": {
          "base_uri": "https://localhost:8080/",
          "height": 350
        },
        "id": "fplM60JtIrTq",
        "outputId": "ee82f8e2-f547-45e8-f8ba-7eff43c7b3ab"
      },
      "execution_count": 19,
      "outputs": [
        {
          "output_type": "display_data",
          "data": {
            "text/plain": [
              "<Figure size 360x360 with 1 Axes>"
            ],
            "image/png": "[encoded data removed]"
          },
          "metadata": {
            "needs_background": "light"
          }
        }
      ]
    },
    {
      "cell_type": "markdown",
      "metadata": {
        "id": "iZEN0E4R4ncj"
      },
      "source": [
        "Use PCA to project features on a smaller number of dimensions:"
      ]
    },
    {
      "cell_type": "code",
      "execution_count": 21,
      "metadata": {
        "colab": {
          "base_uri": "https://localhost:8080/",
          "height": 352
        },
        "id": "O8ABKNZDEUwQ",
        "outputId": "13b80428-178b-4647-b9a9-ac88ad4b0bf4"
      },
      "outputs": [
        {
          "output_type": "display_data",
          "data": {
            "text/plain": [
              "<Figure size 360x360 with 1 Axes>"
            ],
            "image/png": "[encoded data removed]"
          },
          "metadata": {
            "needs_background": "light"
          }
        },
        {
          "output_type": "stream",
          "name": "stdout",
          "text": [
            "99.99999999999966\n"
          ]
        }
      ],
      "source": [
        "from sklearn.decomposition import PCA\n",
        "\n",
        "pca_2000 = PCA(n_components=min(data.shape))\n",
        "pca_2000.fit(data)\n",
        "\n",
        "# Visualize the amount of explained variance\n",
        "plt.plot(np.cumsum(pca_2000.explained_variance_ratio_ * 100))\n",
        "plt.grid()\n",
        "plt.xlabel('Number of components')\n",
        "plt.ylabel('Explained variance')\n",
        "plt.show()\n",
        "\n",
        "# Print the amount of explained variance  \n",
        "print(np.cumsum(pca_2000.explained_variance_ratio_ * 100)[-1])"
      ]
    },
    {
      "cell_type": "code",
      "execution_count": 40,
      "metadata": {
        "id": "4oWdWz2S4kKL"
      },
      "outputs": [],
      "source": [
        "# Do PCA for dimensionality reduction\n",
        "def do_pca(clf, X, y, num_components, label, include_plot=True):\n",
        "\n",
        "    results = []\n",
        "\n",
        "    # Add PCA as a third step of a pipeline\n",
        "    clf.steps.insert(2,['pca', PCA()])\n",
        "\n",
        "    for i in num_components:\n",
        "        # Set the number of features for PCA to 'i'\n",
        "        clf.set_params(pca__n_components=i)\n",
        "        \n",
        "        # Cross-validate and get the accuracy\n",
        "        cv = cross_validate(clf, X, y, cv=5)\n",
        "        scores = cv['test_score']\n",
        "        acc = np.mean(scores)\n",
        "        results.append(acc)\n",
        "    \n",
        "    # Remove from the pipeline\n",
        "    clf.steps.pop(0)\n",
        "\n",
        "    # Show the results\n",
        "    if include_plot:\n",
        "        plt.plot(num_components, results, label=label)\n",
        "        plt.legend(loc='upper right')"
      ]
    },
    {
      "cell_type": "code",
      "source": [
        "# Number of components for pca to be tried\n",
        "num_components = [100, 500, 1000, 1500, 2000, 2700]\n",
        "\n",
        "plt.title('PCA')\n",
        "plt.xlabel('Number of components selected')\n",
        "plt.ylabel('Accuracy')\n",
        "\n",
        "for label, clf in classifiers.items():\n",
        "    do_pca(clf, data, classes, num_components, label)\n",
        "\n",
        "plt.savefig(\"pca.png\", bbox_inches = 'tight')\n",
        "plt.show()"
      ],
      "metadata": {
        "colab": {
          "base_uri": "https://localhost:8080/",
          "height": 350
        },
        "id": "95bMlRkZQEJJ",
        "outputId": "3cbcae6b-219b-4b9e-9475-9ddd0daa1ac5"
      },
      "execution_count": 41,
      "outputs": [
        {
          "output_type": "display_data",
          "data": {
            "text/plain": [
              "<Figure size 360x360 with 1 Axes>"
            ],
            "image/png": "[encoded data removed]"
          },
          "metadata": {
            "needs_background": "light"
          }
        }
      ]
    },
    {
      "cell_type": "markdown",
      "metadata": {
        "id": "nCz7lFB8ZyoU"
      },
      "source": [
        "## Hyperparameter Tuning"
      ]
    },
    {
      "cell_type": "code",
      "source": [
        "# Select chosen number of features from the dataset\n",
        "feat_idx = clf_results_anova['svm_rbf'][2304]\n",
        "data_reduced_feats = data.iloc[:,feat_idx]\n",
        "data_reduced_feats.shape"
      ],
      "metadata": {
        "colab": {
          "base_uri": "https://localhost:8080/"
        },
        "id": "w2D1je7phMBY",
        "outputId": "b567094e-ead1-4790-b885-638630e6999a"
      },
      "execution_count": 26,
      "outputs": [
        {
          "output_type": "execute_result",
          "data": {
            "text/plain": [
              "(3400, 2304)"
            ]
          },
          "metadata": {},
          "execution_count": 26
        }
      ]
    },
    {
      "cell_type": "code",
      "execution_count": 33,
      "metadata": {
        "id": "yJ2FU0UAekTo",
        "colab": {
          "base_uri": "https://localhost:8080/"
        },
        "outputId": "06031511-24dc-4812-95bc-043c2e5953d9"
      },
      "outputs": [
        {
          "output_type": "stream",
          "name": "stdout",
          "text": [
            "best score: 0.76, parameters: {'clf__C': 10, 'clf__gamma': 0.001, 'clf__kernel': 'rbf'}\n"
          ]
        }
      ],
      "source": [
        "from sklearn.model_selection import GridSearchCV\n",
        "\n",
        "# Create an instance of a classifier \n",
        "clf = Pipeline([('std_scaler', std_scaler), \n",
        "                ('minmax_scaler', minmax_scaler), \n",
        "                ('clf', SVC())])\n",
        "\n",
        "# Create a grid of hyperparameters to be tried\n",
        "svm_param_grid = {'clf__C': [0.01, 0.1, 1, 10],\n",
        "                  'clf__gamma': ['scale', 0.001, 0.01, 0.1],\n",
        "                  'clf__kernel': ['rbf']}  \n",
        "\n",
        "# Find the optimal parameters using 5-fold cv\n",
        "grid_search = GridSearchCV(clf, svm_param_grid, scoring='accuracy', cv=5)\n",
        "search = grid_search.fit(data_reduced_feats, classes) \n",
        "print('best score: {}, parameters: {}'.format(search.best_score_, search.best_params_))"
      ]
    },
    {
      "cell_type": "code",
      "source": [
        "# Apply confidence scores to see how performance changes when some observations are assigned higher weights\n",
        "grid_search_conf = GridSearchCV(clf, svm_param_grid, scoring='accuracy', cv=5)\n",
        "kwargs = {clf.steps[-1][0] + '__sample_weight': confidences*2} # add confidences as sample weight parameter for the SVM\n",
        "search_conf = grid_search_conf.fit(data_reduced_feats, classes, **kwargs) \n",
        "print('best score: {}, parameters: {}'.format(search_conf.best_score_, search_conf.best_params_))"
      ],
      "metadata": {
        "colab": {
          "base_uri": "https://localhost:8080/"
        },
        "id": "cTNU2xceoyIk",
        "outputId": "142d6b1a-c87c-4eb7-a349-b74c16c44224"
      },
      "execution_count": 35,
      "outputs": [
        {
          "output_type": "stream",
          "name": "stdout",
          "text": [
            "best score: 0.7602941176470588, parameters: {'clf__C': 1, 'clf__gamma': 'scale', 'clf__kernel': 'rbf'}\n"
          ]
        }
      ]
    },
    {
      "cell_type": "markdown",
      "source": [
        "# Evaluation"
      ],
      "metadata": {
        "id": "8Y1P5LPPbKIB"
      }
    },
    {
      "cell_type": "code",
      "source": [
        "# Show how validation accuracy changes for each combination of hyperparameters\n",
        "scores = search.cv_results_['mean_test_score']\n",
        "\n",
        "plt.xticks(np.arange(16))\n",
        "plt.xlabel('Hyperparameter set')\n",
        "plt.ylabel('Accuracy')\n",
        "plt.plot(scores, label='without conf')\n",
        "\n",
        "# Compare with resulting scores when confidences are used\n",
        "scores_conf = search_conf.cv_results_['mean_test_score']\n",
        "plt.plot(scores_conf, label='with conf')\n",
        "plt.legend()\n",
        "\n",
        "plt.savefig(\"hyperparams.png\", bbox_inches = 'tight')\n",
        "plt.show()"
      ],
      "metadata": {
        "colab": {
          "base_uri": "https://localhost:8080/",
          "height": 334
        },
        "id": "o4fcjTO3kTTe",
        "outputId": "424dad26-3695-48f9-e95f-959bda858d2b"
      },
      "execution_count": 39,
      "outputs": [
        {
          "output_type": "display_data",
          "data": {
            "text/plain": [
              "<Figure size 360x360 with 1 Axes>"
            ],
            "image/png": "[encoded data removed]"
          },
          "metadata": {
            "needs_background": "light"
          }
        }
      ]
    },
    {
      "cell_type": "markdown",
      "source": [
        "# Exporting Test Predictions"
      ],
      "metadata": {
        "id": "IMzpTxJBPVNR"
      }
    },
    {
      "cell_type": "code",
      "source": [
        "# Print the number of missing values\n",
        "test_data.isna().sum()"
      ],
      "metadata": {
        "colab": {
          "base_uri": "https://localhost:8080/"
        },
        "id": "ndxTtoDapg2u",
        "outputId": "fbdbd52a-b2bd-4bdc-b858-3d02b2de7683"
      },
      "execution_count": 42,
      "outputs": [
        {
          "output_type": "execute_result",
          "data": {
            "text/plain": [
              "CNNs        384\n",
              "CNNs.1      414\n",
              "CNNs.2      390\n",
              "CNNs.3      423\n",
              "CNNs.4      397\n",
              "           ... \n",
              "GIST.507    399\n",
              "GIST.508    437\n",
              "GIST.509    379\n",
              "GIST.510    399\n",
              "GIST.511    375\n",
              "Length: 4608, dtype: int64"
            ]
          },
          "metadata": {},
          "execution_count": 42
        }
      ]
    },
    {
      "cell_type": "code",
      "source": [
        "# Impute missing values with column means\n",
        "test_data = test_data.fillna(value=test_data.mean())\n",
        "\n",
        "# Check if any column has missing values\n",
        "num_nan = test_data.isna().sum().values\n",
        "len(num_nan[num_nan != 0])"
      ],
      "metadata": {
        "colab": {
          "base_uri": "https://localhost:8080/"
        },
        "id": "jf5L3Oy-pic-",
        "outputId": "805ff34a-2711-40fa-97ce-4adc0ba65b5a"
      },
      "execution_count": 43,
      "outputs": [
        {
          "output_type": "execute_result",
          "data": {
            "text/plain": [
              "0"
            ]
          },
          "metadata": {},
          "execution_count": 43
        }
      ]
    },
    {
      "cell_type": "code",
      "source": [
        "test_data.head()"
      ],
      "metadata": {
        "colab": {
          "base_uri": "https://localhost:8080/",
          "height": 299
        },
        "id": "CAqrwZXarntv",
        "outputId": "c90fd2fb-04dd-440b-b52c-36d319f426a7"
      },
      "execution_count": 44,
      "outputs": [
        {
          "output_type": "execute_result",
          "data": {
            "text/plain": [
              "       CNNs    CNNs.1   CNNs.2    CNNs.3    CNNs.4    CNNs.5   CNNs.6  \\\n",
              "0  0.787990  0.307314  2.02460  0.000000  0.000000  3.295500  0.00000   \n",
              "1  0.000000  0.722650  0.23718  0.158560  0.205002  0.235777  0.00000   \n",
              "2  0.000000  0.307314  0.00000  0.000000  0.648270  0.480990  0.00000   \n",
              "3  0.044644  0.000000  0.23718  0.712940  0.000000  0.235777  0.14967   \n",
              "4  0.848170  0.307314  0.00000  0.304779  0.000000  0.000000  0.25626   \n",
              "\n",
              "    CNNs.7    CNNs.8    CNNs.9  ...  GIST.502  GIST.503  GIST.504  GIST.505  \\\n",
              "0  0.12965  0.000000  0.165616  ...  0.021705  0.034861  0.045078  0.034300   \n",
              "1  0.00000  0.185367  0.000000  ...  0.004348  0.007177  0.014610  0.034300   \n",
              "2  0.71721  0.705410  0.000000  ...  0.026724  0.027204  0.021123  0.027027   \n",
              "3  0.00000  0.000000  0.000000  ...  0.026242  0.029739  0.025212  0.034300   \n",
              "4  0.00000  0.798860  0.000000  ...  0.003493  0.002661  0.032333  0.069194   \n",
              "\n",
              "   GIST.506  GIST.507  GIST.508  GIST.509  GIST.510  GIST.511  \n",
              "0  0.030645  0.031250  0.026715  0.007441  0.028426  0.024078  \n",
              "1  0.007715  0.014736  0.009790  0.036324  0.026978  0.024078  \n",
              "2  0.029328  0.031330  0.030306  0.013995  0.033780  0.013178  \n",
              "3  0.021912  0.020740  0.024278  0.001928  0.015194  0.023487  \n",
              "4  0.040851  0.006043  0.030306  0.035340  0.024834  0.076113  \n",
              "\n",
              "[5 rows x 4608 columns]"
            ],
            "text/html": [
              "\n",
              "  <div id=\"df-520e04de-4e73-4831-9e53-8159f02def19\">\n",
              "    <div class=\"colab-df-container\">\n",
              "      <div>\n",
              "<style scoped>\n",
              "    .dataframe tbody tr th:only-of-type {\n",
              "        vertical-align: middle;\n",
              "    }\n",
              "\n",
              "    .dataframe tbody tr th {\n",
              "        vertical-align: top;\n",
              "    }\n",
              "\n",
              "    .dataframe thead th {\n",
              "        text-align: right;\n",
              "    }\n",
              "</style>\n",
              "<table border=\"1\" class=\"dataframe\">\n",
              "  <thead>\n",
              "    <tr style=\"text-align: right;\">\n",
              "      <th></th>\n",
              "      <th>CNNs</th>\n",
              "      <th>CNNs.1</th>\n",
              "      <th>CNNs.2</th>\n",
              "      <th>CNNs.3</th>\n",
              "      <th>CNNs.4</th>\n",
              "      <th>CNNs.5</th>\n",
              "      <th>CNNs.6</th>\n",
              "      <th>CNNs.7</th>\n",
              "      <th>CNNs.8</th>\n",
              "      <th>CNNs.9</th>\n",
              "      <th>...</th>\n",
              "      <th>GIST.502</th>\n",
              "      <th>GIST.503</th>\n",
              "      <th>GIST.504</th>\n",
              "      <th>GIST.505</th>\n",
              "      <th>GIST.506</th>\n",
              "      <th>GIST.507</th>\n",
              "      <th>GIST.508</th>\n",
              "      <th>GIST.509</th>\n",
              "      <th>GIST.510</th>\n",
              "      <th>GIST.511</th>\n",
              "    </tr>\n",
              "  </thead>\n",
              "  <tbody>\n",
              "    <tr>\n",
              "      <th>0</th>\n",
              "      <td>0.787990</td>\n",
              "      <td>0.307314</td>\n",
              "      <td>2.02460</td>\n",
              "      <td>0.000000</td>\n",
              "      <td>0.000000</td>\n",
              "      <td>3.295500</td>\n",
              "      <td>0.00000</td>\n",
              "      <td>0.12965</td>\n",
              "      <td>0.000000</td>\n",
              "      <td>0.165616</td>\n",
              "      <td>...</td>\n",
              "      <td>0.021705</td>\n",
              "      <td>0.034861</td>\n",
              "      <td>0.045078</td>\n",
              "      <td>0.034300</td>\n",
              "      <td>0.030645</td>\n",
              "      <td>0.031250</td>\n",
              "      <td>0.026715</td>\n",
              "      <td>0.007441</td>\n",
              "      <td>0.028426</td>\n",
              "      <td>0.024078</td>\n",
              "    </tr>\n",
              "    <tr>\n",
              "      <th>1</th>\n",
              "      <td>0.000000</td>\n",
              "      <td>0.722650</td>\n",
              "      <td>0.23718</td>\n",
              "      <td>0.158560</td>\n",
              "      <td>0.205002</td>\n",
              "      <td>0.235777</td>\n",
              "      <td>0.00000</td>\n",
              "      <td>0.00000</td>\n",
              "      <td>0.185367</td>\n",
              "      <td>0.000000</td>\n",
              "      <td>...</td>\n",
              "      <td>0.004348</td>\n",
              "      <td>0.007177</td>\n",
              "      <td>0.014610</td>\n",
              "      <td>0.034300</td>\n",
              "      <td>0.007715</td>\n",
              "      <td>0.014736</td>\n",
              "      <td>0.009790</td>\n",
              "      <td>0.036324</td>\n",
              "      <td>0.026978</td>\n",
              "      <td>0.024078</td>\n",
              "    </tr>\n",
              "    <tr>\n",
              "      <th>2</th>\n",
              "      <td>0.000000</td>\n",
              "      <td>0.307314</td>\n",
              "      <td>0.00000</td>\n",
              "      <td>0.000000</td>\n",
              "      <td>0.648270</td>\n",
              "      <td>0.480990</td>\n",
              "      <td>0.00000</td>\n",
              "      <td>0.71721</td>\n",
              "      <td>0.705410</td>\n",
              "      <td>0.000000</td>\n",
              "      <td>...</td>\n",
              "      <td>0.026724</td>\n",
              "      <td>0.027204</td>\n",
              "      <td>0.021123</td>\n",
              "      <td>0.027027</td>\n",
              "      <td>0.029328</td>\n",
              "      <td>0.031330</td>\n",
              "      <td>0.030306</td>\n",
              "      <td>0.013995</td>\n",
              "      <td>0.033780</td>\n",
              "      <td>0.013178</td>\n",
              "    </tr>\n",
              "    <tr>\n",
              "      <th>3</th>\n",
              "      <td>0.044644</td>\n",
              "      <td>0.000000</td>\n",
              "      <td>0.23718</td>\n",
              "      <td>0.712940</td>\n",
              "      <td>0.000000</td>\n",
              "      <td>0.235777</td>\n",
              "      <td>0.14967</td>\n",
              "      <td>0.00000</td>\n",
              "      <td>0.000000</td>\n",
              "      <td>0.000000</td>\n",
              "      <td>...</td>\n",
              "      <td>0.026242</td>\n",
              "      <td>0.029739</td>\n",
              "      <td>0.025212</td>\n",
              "      <td>0.034300</td>\n",
              "      <td>0.021912</td>\n",
              "      <td>0.020740</td>\n",
              "      <td>0.024278</td>\n",
              "      <td>0.001928</td>\n",
              "      <td>0.015194</td>\n",
              "      <td>0.023487</td>\n",
              "    </tr>\n",
              "    <tr>\n",
              "      <th>4</th>\n",
              "      <td>0.848170</td>\n",
              "      <td>0.307314</td>\n",
              "      <td>0.00000</td>\n",
              "      <td>0.304779</td>\n",
              "      <td>0.000000</td>\n",
              "      <td>0.000000</td>\n",
              "      <td>0.25626</td>\n",
              "      <td>0.00000</td>\n",
              "      <td>0.798860</td>\n",
              "      <td>0.000000</td>\n",
              "      <td>...</td>\n",
              "      <td>0.003493</td>\n",
              "      <td>0.002661</td>\n",
              "      <td>0.032333</td>\n",
              "      <td>0.069194</td>\n",
              "      <td>0.040851</td>\n",
              "      <td>0.006043</td>\n",
              "      <td>0.030306</td>\n",
              "      <td>0.035340</td>\n",
              "      <td>0.024834</td>\n",
              "      <td>0.076113</td>\n",
              "    </tr>\n",
              "  </tbody>\n",
              "</table>\n",
              "<p>5 rows × 4608 columns</p>\n",
              "</div>\n",
              "      <button class=\"colab-df-convert\" onclick=\"convertToInteractive('df-520e04de-4e73-4831-9e53-8159f02def19')\"\n",
              "              title=\"Convert this dataframe to an interactive table.\"\n",
              "              style=\"display:none;\">\n",
              "        \n",
              "  <svg xmlns=\"http://www.w3.org/2000/svg\" height=\"24px\"viewBox=\"0 0 24 24\"\n",
              "       width=\"24px\">\n",
              "    <path d=\"M0 0h24v24H0V0z\" fill=\"none\"/>\n",
              "    <path d=\"M18.56 5.44l.94 2.06.94-2.06 2.06-.94-2.06-.94-.94-2.06-.94 2.06-2.06.94zm-11 1L8.5 8.5l.94-2.06 2.06-.94-2.06-.94L8.5 2.5l-.94 2.06-2.06.94zm10 10l.94 2.06.94-2.06 2.06-.94-2.06-.94-.94-2.06-.94 2.06-2.06.94z\"/><path d=\"M17.41 7.96l-1.37-1.37c-.4-.4-.92-.59-1.43-.59-.52 0-1.04.2-1.43.59L10.3 9.45l-7.72 7.72c-.78.78-.78 2.05 0 2.83L4 21.41c.39.39.9.59 1.41.59.51 0 1.02-.2 1.41-.59l7.78-7.78 2.81-2.81c.8-.78.8-2.07 0-2.86zM5.41 20L4 18.59l7.72-7.72 1.47 1.35L5.41 20z\"/>\n",
              "  </svg>\n",
              "      </button>\n",
              "      \n",
              "  <style>\n",
              "    .colab-df-container {\n",
              "      display:flex;\n",
              "      flex-wrap:wrap;\n",
              "      gap: 12px;\n",
              "    }\n",
              "\n",
              "    .colab-df-convert {\n",
              "      background-color: #E8F0FE;\n",
              "      border: none;\n",
              "      border-radius: 50%;\n",
              "      cursor: pointer;\n",
              "      display: none;\n",
              "      fill: #1967D2;\n",
              "      height: 32px;\n",
              "      padding: 0 0 0 0;\n",
              "      width: 32px;\n",
              "    }\n",
              "\n",
              "    .colab-df-convert:hover {\n",
              "      background-color: #E2EBFA;\n",
              "      box-shadow: 0px 1px 2px rgba(60, 64, 67, 0.3), 0px 1px 3px 1px rgba(60, 64, 67, 0.15);\n",
              "      fill: #174EA6;\n",
              "    }\n",
              "\n",
              "    [theme=dark] .colab-df-convert {\n",
              "      background-color: #3B4455;\n",
              "      fill: #D2E3FC;\n",
              "    }\n",
              "\n",
              "    [theme=dark] .colab-df-convert:hover {\n",
              "      background-color: #434B5C;\n",
              "      box-shadow: 0px 1px 3px 1px rgba(0, 0, 0, 0.15);\n",
              "      filter: drop-shadow(0px 1px 2px rgba(0, 0, 0, 0.3));\n",
              "      fill: #FFFFFF;\n",
              "    }\n",
              "  </style>\n",
              "\n",
              "      <script>\n",
              "        const buttonEl =\n",
              "          document.querySelector('#df-520e04de-4e73-4831-9e53-8159f02def19 button.colab-df-convert');\n",
              "        buttonEl.style.display =\n",
              "          google.colab.kernel.accessAllowed ? 'block' : 'none';\n",
              "\n",
              "        async function convertToInteractive(key) {\n",
              "          const element = document.querySelector('#df-520e04de-4e73-4831-9e53-8159f02def19');\n",
              "          const dataTable =\n",
              "            await google.colab.kernel.invokeFunction('convertToInteractive',\n",
              "                                                     [key], {});\n",
              "          if (!dataTable) return;\n",
              "\n",
              "          const docLinkHtml = 'Like what you see? Visit the ' +\n",
              "            '<a target=\"_blank\" href=https://colab.research.google.com/notebooks/data_table.ipynb>data table notebook</a>'\n",
              "            + ' to learn more about interactive tables.';\n",
              "          element.innerHTML = '';\n",
              "          dataTable['output_type'] = 'display_data';\n",
              "          await google.colab.output.renderOutput(dataTable, element);\n",
              "          const docLink = document.createElement('div');\n",
              "          docLink.innerHTML = docLinkHtml;\n",
              "          element.appendChild(docLink);\n",
              "        }\n",
              "      </script>\n",
              "    </div>\n",
              "  </div>\n",
              "  "
            ]
          },
          "metadata": {},
          "execution_count": 44
        }
      ]
    },
    {
      "cell_type": "code",
      "source": [
        "# Reduce the number of features in the testing dataset\n",
        "feat_idx = clf_results_anova['svm_rbf'][2304]\n",
        "test_data_reduced_feats = test_data.iloc[:,feat_idx]\n",
        "test_data_reduced_feats.shape"
      ],
      "metadata": {
        "colab": {
          "base_uri": "https://localhost:8080/"
        },
        "id": "cvI-npCrplIk",
        "outputId": "9c19955d-8e6e-4386-b7c8-c86447635e96"
      },
      "execution_count": 45,
      "outputs": [
        {
          "output_type": "execute_result",
          "data": {
            "text/plain": [
              "(2000, 2304)"
            ]
          },
          "metadata": {},
          "execution_count": 45
        }
      ]
    },
    {
      "cell_type": "code",
      "source": [
        "# Create an instance of a classifier \n",
        "clf = Pipeline([('std_scaler', std_scaler), \n",
        "                ('minmax_scaler', minmax_scaler), \n",
        "                ('clf', SVC())])\n",
        "\n",
        "# Set optimal parameters\n",
        "best_params = search_conf.best_params_\n",
        "clf.set_params(**best_params)\n",
        "\n",
        "# Add confidences as sample weight parameter for the classifier\n",
        "kwargs = {clf.steps[-1][0] + '__sample_weight': confidences*2}\n",
        "\n",
        "# Train the classifier\n",
        "clf.fit(data_reduced_feats, classes, **kwargs)\n",
        "\n",
        "# Predict class labels for the test dataset\n",
        "predictions = clf.predict(test_data_reduced_feats)\n",
        "\n",
        "# Export predictions\n",
        "predictions = pd.DataFrame(predictions, columns=['label']) # convert to DataFrame\n",
        "predictions.to_csv('predictions.csv', index=False)"
      ],
      "metadata": {
        "id": "wVaM9HqxPXXb"
      },
      "execution_count": 62,
      "outputs": []
    }
  ],
  "metadata": {
    "colab": {
      "collapsed_sections": [],
      "name": "ReportML.ipynb",
      "provenance": []
    },
    "kernelspec": {
      "display_name": "Python 3",
      "name": "python3"
    },
    "language_info": {
      "name": "python"
    }
  },
  "nbformat": 4,
  "nbformat_minor": 0
}